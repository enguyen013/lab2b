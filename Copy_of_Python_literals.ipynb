{
  "nbformat": 4,
  "nbformat_minor": 0,
  "metadata": {
    "colab": {
      "provenance": [],
      "include_colab_link": true
    },
    "kernelspec": {
      "name": "python3",
      "display_name": "Python 3"
    },
    "language_info": {
      "name": "python"
    }
  },
  "cells": [
    {
      "cell_type": "markdown",
      "metadata": {
        "id": "view-in-github",
        "colab_type": "text"
      },
      "source": [
        "<a href=\"https://colab.research.google.com/github/enguyen013/lab2b/blob/main/Copy_of_Python_literals.ipynb\" target=\"_parent\"><img src=\"https://colab.research.google.com/assets/colab-badge.svg\" alt=\"Open In Colab\"/></a>"
      ]
    },
    {
      "cell_type": "markdown",
      "source": [
        "# Python literals\n",
        "\n",
        "## Objective\n",
        "1. Understand how Python uses literals.\n",
        "2. Differentiate Integer, Float, Boolean and String data types.\n",
        "3. Understanding how arithmetic operations are performed and recognizing the precedence of operators.\n",
        "\n",
        "## Prerequisite\n",
        "\n",
        "- Python & literals lecture\n",
        "\n",
        "## What do you need to complete this exercise?\n",
        "\n",
        "You can perform this exercise in any Python IDE, including JupyterLab or Google Colab."
      ],
      "metadata": {
        "id": "2ITy4ycVFXBq"
      }
    },
    {
      "cell_type": "markdown",
      "source": [
        "### Literals\n",
        "\n",
        "a) What will the output be without using Python? Aim for 80% accuracy.\n",
        "\n",
        "```print(5 + 2 - 2)```\n",
        "5+2-2=5\n",
        "\n",
        "```print(5 / 2)```\n",
        "5/2=2.5\n",
        "\n",
        "```print(6 // 2) # // integer division```\n",
        "6//2=3\n",
        "\n",
        "```print(2. * 3)```\n",
        "2.*3=6\n",
        "```print(2 < 4)```\n",
        "2<4 is True\n",
        "\n",
        "```print(2 >= 2)```\n",
        "2>=2 is True\n",
        "```print(\"Hello\"+\"World\")```\n",
        "HelloWorld\n",
        "```print(\"bla\" * 3)```\n",
        "blablabla\n",
        "```print(2 * 3 ** 3)```\n",
        "2*3**3=54\n",
        "```print(5 * 25 // 13 + 100 / 2 % 13 // 2)```\n",
        "5 * 25 // 13 + 100 / 2 % 13 // 2 =14\n",
        "```print(2 * 3 % 5)```\n",
        "2 * 3 % 5=1\n",
        "```print((2 % -4), (2 % 4), (2 ** 3 ** 2))```\n",
        "2 % -4, 2 % 4, 2 ** 3 ** 2=-2 2 512\n",
        "\n"
      ],
      "metadata": {
        "id": "uQxH0KO0tsDc"
      }
    },
    {
      "cell_type": "markdown",
      "source": [
        "b) Please verify using Python to determine if you have achieved at least 80% correct answers."
      ],
      "metadata": {
        "id": "4HjghxnSJgY1"
      }
    },
    {
      "cell_type": "code",
      "source": [
        "print(5+2-2)  #5\n",
        "print(5/2)      # 2.5\n",
        "print(6//2)     #3\n",
        "print(2. *3)    #6.0\n",
        "print(2<4)      #True\n",
        "print(2>=2)     #True\n",
        "print(\"Hello\"+\"World\")  #HelloWorld\n",
        "print(\"bla\"*3)  #blablabla\n",
        "print(2*3**3)   #54\n",
        "print(5*25//13+100/2%13//2)  #14.0\n",
        "print(2*3%5)    #1\n",
        "print((2%-4),(2%4),(2**3**2))  #-2 2 512"
      ],
      "metadata": {
        "id": "tLQh-A7Kt70H",
        "outputId": "54574149-f7bf-464b-e485-0c20b8616c32",
        "colab": {
          "base_uri": "https://localhost:8080/"
        }
      },
      "execution_count": null,
      "outputs": [
        {
          "output_type": "stream",
          "name": "stdout",
          "text": [
            "5\n",
            "2.5\n",
            "3\n",
            "6.0\n",
            "True\n",
            "True\n",
            "HelloWorld\n",
            "blablabla\n",
            "54\n",
            "14.0\n",
            "1\n",
            "-2 2 512\n"
          ]
        }
      ]
    },
    {
      "cell_type": "markdown",
      "source": [
        "### Data type\n"
      ],
      "metadata": {
        "id": "58GMVBXqKY89"
      }
    },
    {
      "cell_type": "markdown",
      "source": [
        "a) What will the output be without using Python? Aim for 80% accuracy.\n",
        "```type(\"Hello\")```\n",
        "<class 'str\">\n",
        "```type(1+\"2\")```\n",
        "typeerroe\n",
        "```type(1.)```\n",
        "<class 'float'>\n",
        "```type('A')```\n",
        "<class 'str'>\n",
        "```type(500)```\n",
        "<class 'int>\n",
        "```type(True)```\n",
        "<class 'bool>\n",
        "```type(\"False\")```\n",
        "<class 'str'>\n"
      ],
      "metadata": {
        "id": "f3_kJZnHKolp"
      }
    },
    {
      "cell_type": "markdown",
      "source": [
        "Answer here"
      ],
      "metadata": {
        "id": "TZ3zlabVMebV"
      }
    },
    {
      "cell_type": "markdown",
      "source": [
        "b) Please verify using Python to determine if you have achieved at least 80% correct answers."
      ],
      "metadata": {
        "id": "LmwF2Rg2Li7M"
      }
    },
    {
      "cell_type": "code",
      "source": [
        "type(\"Hello\") #<class 'str'.\n",
        "\n",
        "type(1+\"2\")  #TypeError: unsupported operand type(s) for +: 'int' and 'str'\n",
        "\n",
        "type(1.)  #<class 'Flaot'>\n",
        "\n",
        "type('A') #<class 'str'>\n",
        "\n",
        "type(500) #<class 'int'>\n",
        "\n",
        "type(True) #<class 'bool'>\n",
        "\n",
        "type(\"False\") #class 'str'>\n"
      ],
      "metadata": {
        "id": "kLoyOaLLLnSK",
        "outputId": "321272da-0c9c-4ea0-abcb-87737a679876",
        "colab": {
          "base_uri": "https://localhost:8080/",
          "height": 216
        }
      },
      "execution_count": null,
      "outputs": [
        {
          "output_type": "error",
          "ename": "TypeError",
          "evalue": "unsupported operand type(s) for +: 'int' and 'str'",
          "traceback": [
            "\u001b[0;31m---------------------------------------------------------------------------\u001b[0m",
            "\u001b[0;31mTypeError\u001b[0m                                 Traceback (most recent call last)",
            "\u001b[0;32m<ipython-input-21-d9420cbdbf20>\u001b[0m in \u001b[0;36m<cell line: 0>\u001b[0;34m()\u001b[0m\n\u001b[1;32m      1\u001b[0m \u001b[0mtype\u001b[0m\u001b[0;34m(\u001b[0m\u001b[0;34m\"Hello\"\u001b[0m\u001b[0;34m)\u001b[0m \u001b[0;31m#<class 'str'.\u001b[0m\u001b[0;34m\u001b[0m\u001b[0;34m\u001b[0m\u001b[0m\n\u001b[1;32m      2\u001b[0m \u001b[0;34m\u001b[0m\u001b[0m\n\u001b[0;32m----> 3\u001b[0;31m \u001b[0mtype\u001b[0m\u001b[0;34m(\u001b[0m\u001b[0;36m1\u001b[0m\u001b[0;34m+\u001b[0m\u001b[0;34m\"2\"\u001b[0m\u001b[0;34m)\u001b[0m  \u001b[0;31m#TypeError: unsupported operand type(s) for +: 'int' and 'str'\u001b[0m\u001b[0;34m\u001b[0m\u001b[0;34m\u001b[0m\u001b[0m\n\u001b[0m\u001b[1;32m      4\u001b[0m \u001b[0;34m\u001b[0m\u001b[0m\n\u001b[1;32m      5\u001b[0m \u001b[0mtype\u001b[0m\u001b[0;34m(\u001b[0m\u001b[0;36m1.\u001b[0m\u001b[0;34m)\u001b[0m  \u001b[0;31m#<class 'Flaot'>\u001b[0m\u001b[0;34m\u001b[0m\u001b[0;34m\u001b[0m\u001b[0m\n",
            "\u001b[0;31mTypeError\u001b[0m: unsupported operand type(s) for +: 'int' and 'str'"
          ]
        }
      ]
    },
    {
      "cell_type": "markdown",
      "source": [
        "### Operator precedence"
      ],
      "metadata": {
        "id": "WpQLLdj7Lr4K"
      }
    },
    {
      "cell_type": "markdown",
      "source": [
        "a) Write your arithmetic expression that uses at least one operator from each group. For example ```5 * 25 % 13 + 100 / -2 * 13 // 2 ** 3```"
      ],
      "metadata": {
        "id": "DdtOLAZfLz8X"
      }
    },
    {
      "cell_type": "code",
      "source": [
        "type((5+2)*2**3//4-6 % 2/1)\n"
      ],
      "metadata": {
        "id": "iJH2iRokL14f",
        "outputId": "864198ad-ac25-47e2-e1f4-7650b412d85c",
        "colab": {
          "base_uri": "https://localhost:8080/"
        }
      },
      "execution_count": null,
      "outputs": [
        {
          "output_type": "execute_result",
          "data": {
            "text/plain": [
              "float"
            ]
          },
          "metadata": {},
          "execution_count": 22
        }
      ]
    },
    {
      "cell_type": "markdown",
      "source": [
        "b) What will the output be without using Python after writing your arithmetic expression? Use the table below for your reference."
      ],
      "metadata": {
        "id": "C8NjhQrfMILL"
      }
    },
    {
      "cell_type": "markdown",
      "source": [
        "| Priority | Operator                                                     | Notes                    |\n",
        "| :------- | :----------------------------------------------------------- | :----------------------- |\n",
        "| 1        | `**`                                                         | Right to left evaluation |\n",
        "| 2        | `+`, `-` (note: unary operators located next to the right of the power operator bind more strongly) | unary                    |\n",
        "| 3        | `*`, `/`, `//`, `%`                                          | Left to right evaluation |\n",
        "| 4        | `+`, `-`                                                     | binary                   |"
      ],
      "metadata": {
        "id": "DqRqRrNsMPRp"
      }
    },
    {
      "cell_type": "markdown",
      "source": [
        "Answer here"
      ],
      "metadata": {
        "id": "cKsvL_1JMRVJ"
      }
    },
    {
      "cell_type": "markdown",
      "source": [
        "c) Please verify using Python to determine if you have done it correctly."
      ],
      "metadata": {
        "id": "9micAN0HM2VI"
      }
    },
    {
      "cell_type": "code",
      "source": [
        "type((5+2)*2**3//4-6%2/1) #class 'flaot'>"
      ],
      "metadata": {
        "id": "oyX3LQADM4IY",
        "outputId": "1a1b9b7f-9356-440c-87cf-9d3e4833a103",
        "colab": {
          "base_uri": "https://localhost:8080/"
        }
      },
      "execution_count": null,
      "outputs": [
        {
          "output_type": "execute_result",
          "data": {
            "text/plain": [
              "float"
            ]
          },
          "metadata": {},
          "execution_count": 23
        }
      ]
    },
    {
      "cell_type": "markdown",
      "source": [
        "## Challenges\n",
        "\n",
        "Please describe the challenges you faced during the exercise."
      ],
      "metadata": {
        "id": "xQzjxKdvvbyo"
      }
    },
    {
      "cell_type": "markdown",
      "source": [
        "In the expression type(1 + \"2\"), Python would raise a TypeError because you're trying to add an integer (1) and a string (\"2\"), which isn't allowed without explicit type conversion. This required me to anticipate and mention the error instead of just describing the output."
      ],
      "metadata": {
        "id": "qfJNpTB5EbY4"
      }
    }
  ]
}